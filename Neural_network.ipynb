{
 "cells": [
  {
   "cell_type": "markdown",
   "metadata": {
    "colab_type": "text",
    "id": "BMghs7ae_BHv"
   },
   "source": [
    "# ECG Neural Network"
   ]
  },
  {
   "cell_type": "code",
   "execution_count": 1,
   "metadata": {
    "colab": {},
    "colab_type": "code",
    "id": "b8NgnmTSDTJG"
   },
   "outputs": [],
   "source": [
    "import pandas as pd\n",
    "import numpy as np\n",
    "import matplotlib.pyplot as plt  \n",
    "from sklearn.model_selection import train_test_split"
   ]
  },
  {
   "cell_type": "code",
   "execution_count": 2,
   "metadata": {
    "colab": {
     "base_uri": "https://localhost:8080/",
     "height": 235
    },
    "colab_type": "code",
    "executionInfo": {
     "elapsed": 1674,
     "status": "ok",
     "timestamp": 1535297175163,
     "user": {
      "displayName": "Robert John",
      "photoUrl": "//lh6.googleusercontent.com/-TN4Oz1jiPEs/AAAAAAAAAAI/AAAAAAAAHe0/G8yetdDySy8/s50-c-k-no/photo.jpg",
      "userId": "109381795230983416800"
     },
     "user_tz": -60
    },
    "id": "PGnkYLI5DYzB",
    "outputId": "12a1c006-ba9d-4200-e6e2-e12b522ee51f"
   },
   "outputs": [],
   "source": [
    "normal = pd.read_csv('c:/Users/ASUS/Desktop/ptbdb_normal.csv')\n",
    "abnormal = pd.read_csv('c:/Users/ASUS/Desktop/ptbdb_abnormal.csv')"
   ]
  },
  {
   "cell_type": "code",
   "execution_count": 3,
   "metadata": {
    "scrolled": true
   },
   "outputs": [
    {
     "data": {
      "text/html": [
       "<div>\n",
       "<style scoped>\n",
       "    .dataframe tbody tr th:only-of-type {\n",
       "        vertical-align: middle;\n",
       "    }\n",
       "\n",
       "    .dataframe tbody tr th {\n",
       "        vertical-align: top;\n",
       "    }\n",
       "\n",
       "    .dataframe thead th {\n",
       "        text-align: right;\n",
       "    }\n",
       "</style>\n",
       "<table border=\"1\" class=\"dataframe\">\n",
       "  <thead>\n",
       "    <tr style=\"text-align: right;\">\n",
       "      <th></th>\n",
       "      <th>time0</th>\n",
       "      <th>time1</th>\n",
       "      <th>time2</th>\n",
       "      <th>time3</th>\n",
       "      <th>time4</th>\n",
       "      <th>time5</th>\n",
       "      <th>time6</th>\n",
       "      <th>time7</th>\n",
       "      <th>time8</th>\n",
       "      <th>time9</th>\n",
       "      <th>...</th>\n",
       "      <th>time178</th>\n",
       "      <th>time179</th>\n",
       "      <th>time180</th>\n",
       "      <th>time181</th>\n",
       "      <th>time182</th>\n",
       "      <th>time183</th>\n",
       "      <th>time184</th>\n",
       "      <th>time185</th>\n",
       "      <th>time186</th>\n",
       "      <th>Label</th>\n",
       "    </tr>\n",
       "  </thead>\n",
       "  <tbody>\n",
       "    <tr>\n",
       "      <td>0</td>\n",
       "      <td>1.000000</td>\n",
       "      <td>0.606941</td>\n",
       "      <td>0.384181</td>\n",
       "      <td>0.254237</td>\n",
       "      <td>0.223567</td>\n",
       "      <td>0.276836</td>\n",
       "      <td>0.253430</td>\n",
       "      <td>0.184826</td>\n",
       "      <td>0.153349</td>\n",
       "      <td>0.121872</td>\n",
       "      <td>...</td>\n",
       "      <td>0.0</td>\n",
       "      <td>0.0</td>\n",
       "      <td>0.0</td>\n",
       "      <td>0.0</td>\n",
       "      <td>0.0</td>\n",
       "      <td>0.0</td>\n",
       "      <td>0.0</td>\n",
       "      <td>0.0</td>\n",
       "      <td>0.0</td>\n",
       "      <td>1.0</td>\n",
       "    </tr>\n",
       "    <tr>\n",
       "      <td>1</td>\n",
       "      <td>1.000000</td>\n",
       "      <td>0.951613</td>\n",
       "      <td>0.923963</td>\n",
       "      <td>0.853303</td>\n",
       "      <td>0.791859</td>\n",
       "      <td>0.734255</td>\n",
       "      <td>0.672043</td>\n",
       "      <td>0.685100</td>\n",
       "      <td>0.670507</td>\n",
       "      <td>0.667435</td>\n",
       "      <td>...</td>\n",
       "      <td>0.0</td>\n",
       "      <td>0.0</td>\n",
       "      <td>0.0</td>\n",
       "      <td>0.0</td>\n",
       "      <td>0.0</td>\n",
       "      <td>0.0</td>\n",
       "      <td>0.0</td>\n",
       "      <td>0.0</td>\n",
       "      <td>0.0</td>\n",
       "      <td>1.0</td>\n",
       "    </tr>\n",
       "    <tr>\n",
       "      <td>2</td>\n",
       "      <td>0.977819</td>\n",
       "      <td>0.899261</td>\n",
       "      <td>0.230129</td>\n",
       "      <td>0.032348</td>\n",
       "      <td>0.142329</td>\n",
       "      <td>0.223660</td>\n",
       "      <td>0.328096</td>\n",
       "      <td>0.367837</td>\n",
       "      <td>0.381701</td>\n",
       "      <td>0.389094</td>\n",
       "      <td>...</td>\n",
       "      <td>0.0</td>\n",
       "      <td>0.0</td>\n",
       "      <td>0.0</td>\n",
       "      <td>0.0</td>\n",
       "      <td>0.0</td>\n",
       "      <td>0.0</td>\n",
       "      <td>0.0</td>\n",
       "      <td>0.0</td>\n",
       "      <td>0.0</td>\n",
       "      <td>1.0</td>\n",
       "    </tr>\n",
       "    <tr>\n",
       "      <td>3</td>\n",
       "      <td>0.935618</td>\n",
       "      <td>0.801661</td>\n",
       "      <td>0.805815</td>\n",
       "      <td>1.000000</td>\n",
       "      <td>0.722741</td>\n",
       "      <td>0.480789</td>\n",
       "      <td>0.454829</td>\n",
       "      <td>0.319834</td>\n",
       "      <td>0.266874</td>\n",
       "      <td>0.308411</td>\n",
       "      <td>...</td>\n",
       "      <td>0.0</td>\n",
       "      <td>0.0</td>\n",
       "      <td>0.0</td>\n",
       "      <td>0.0</td>\n",
       "      <td>0.0</td>\n",
       "      <td>0.0</td>\n",
       "      <td>0.0</td>\n",
       "      <td>0.0</td>\n",
       "      <td>0.0</td>\n",
       "      <td>1.0</td>\n",
       "    </tr>\n",
       "    <tr>\n",
       "      <td>4</td>\n",
       "      <td>0.925265</td>\n",
       "      <td>0.433352</td>\n",
       "      <td>0.073620</td>\n",
       "      <td>0.079197</td>\n",
       "      <td>0.136643</td>\n",
       "      <td>0.182934</td>\n",
       "      <td>0.182934</td>\n",
       "      <td>0.182376</td>\n",
       "      <td>0.196877</td>\n",
       "      <td>0.203569</td>\n",
       "      <td>...</td>\n",
       "      <td>0.0</td>\n",
       "      <td>0.0</td>\n",
       "      <td>0.0</td>\n",
       "      <td>0.0</td>\n",
       "      <td>0.0</td>\n",
       "      <td>0.0</td>\n",
       "      <td>0.0</td>\n",
       "      <td>0.0</td>\n",
       "      <td>0.0</td>\n",
       "      <td>1.0</td>\n",
       "    </tr>\n",
       "  </tbody>\n",
       "</table>\n",
       "<p>5 rows × 188 columns</p>\n",
       "</div>"
      ],
      "text/plain": [
       "      time0     time1     time2     time3     time4     time5     time6  \\\n",
       "0  1.000000  0.606941  0.384181  0.254237  0.223567  0.276836  0.253430   \n",
       "1  1.000000  0.951613  0.923963  0.853303  0.791859  0.734255  0.672043   \n",
       "2  0.977819  0.899261  0.230129  0.032348  0.142329  0.223660  0.328096   \n",
       "3  0.935618  0.801661  0.805815  1.000000  0.722741  0.480789  0.454829   \n",
       "4  0.925265  0.433352  0.073620  0.079197  0.136643  0.182934  0.182934   \n",
       "\n",
       "      time7     time8     time9  ...  time178  time179  time180  time181  \\\n",
       "0  0.184826  0.153349  0.121872  ...      0.0      0.0      0.0      0.0   \n",
       "1  0.685100  0.670507  0.667435  ...      0.0      0.0      0.0      0.0   \n",
       "2  0.367837  0.381701  0.389094  ...      0.0      0.0      0.0      0.0   \n",
       "3  0.319834  0.266874  0.308411  ...      0.0      0.0      0.0      0.0   \n",
       "4  0.182376  0.196877  0.203569  ...      0.0      0.0      0.0      0.0   \n",
       "\n",
       "   time182  time183  time184  time185  time186  Label  \n",
       "0      0.0      0.0      0.0      0.0      0.0    1.0  \n",
       "1      0.0      0.0      0.0      0.0      0.0    1.0  \n",
       "2      0.0      0.0      0.0      0.0      0.0    1.0  \n",
       "3      0.0      0.0      0.0      0.0      0.0    1.0  \n",
       "4      0.0      0.0      0.0      0.0      0.0    1.0  \n",
       "\n",
       "[5 rows x 188 columns]"
      ]
     },
     "execution_count": 3,
     "metadata": {},
     "output_type": "execute_result"
    }
   ],
   "source": [
    "new_column_name = []\n",
    "for num in range(abnormal.shape[1]-1):\n",
    "    tem = 'time' + str(num)\n",
    "    new_column_name.append(tem)\n",
    "new_column_name.append(\"Label\")    #label = 1 for abnormal\n",
    "abnormal.columns = new_column_name    \n",
    "\n",
    "\n",
    "column_name = []\n",
    "for num in range(normal.shape[1]-1):\n",
    "    tem = 'time' + str(num)\n",
    "    column_name.append(tem)\n",
    "column_name.append(\"Label\")    #label = 0 for normal\n",
    "normal.columns = column_name\n",
    "\n",
    "abnormal.head()"
   ]
  },
  {
   "cell_type": "code",
   "execution_count": 4,
   "metadata": {
    "scrolled": false
   },
   "outputs": [],
   "source": [
    "data=[normal,abnormal]\n",
    "data=pd.concat(data)"
   ]
  },
  {
   "cell_type": "code",
   "execution_count": 5,
   "metadata": {},
   "outputs": [
    {
     "data": {
      "text/plain": [
       "1.0    10505\n",
       "0.0     4045\n",
       "Name: Label, dtype: int64"
      ]
     },
     "execution_count": 5,
     "metadata": {},
     "output_type": "execute_result"
    }
   ],
   "source": [
    "data[\"Label\"].value_counts()   #we have 10505 abnormal(1) beat and 4045 normal(0) beat."
   ]
  },
  {
   "cell_type": "code",
   "execution_count": 6,
   "metadata": {
    "scrolled": false
   },
   "outputs": [
    {
     "name": "stdout",
     "output_type": "stream",
     "text": [
      "0.0\n"
     ]
    },
    {
     "data": {
      "text/plain": [
       "[<matplotlib.lines.Line2D at 0x23713c378c8>]"
      ]
     },
     "execution_count": 6,
     "metadata": {},
     "output_type": "execute_result"
    },
    {
     "data": {
      "image/png": "[encoded data removed]",
      "text/plain": [
       "<Figure size 1440x432 with 1 Axes>"
      ]
     },
     "metadata": {
      "needs_background": "light"
     },
     "output_type": "display_data"
    }
   ],
   "source": [
    "x = np.arange(0, 186)*8/1000    #to second\n",
    "\n",
    "print(data.iloc[0,187]) #normal sample\n",
    "plt.figure(figsize=(20,6))\n",
    "plt.title(\"Normal beat\", fontsize=20)\n",
    "plt.ylabel(\"Amplitude\", fontsize=15)\n",
    "plt.xlabel(\"Time (ms)\", fontsize=15)\n",
    "plt.plot(x,data.iloc[0,:186]) \n",
    "\n",
    "#normal beat sample\n"
   ]
  },
  {
   "cell_type": "code",
   "execution_count": 7,
   "metadata": {
    "scrolled": false
   },
   "outputs": [
    {
     "name": "stdout",
     "output_type": "stream",
     "text": [
      "1.0\n"
     ]
    },
    {
     "data": {
      "text/plain": [
       "[<matplotlib.lines.Line2D at 0x23714f63888>]"
      ]
     },
     "execution_count": 7,
     "metadata": {},
     "output_type": "execute_result"
    },
    {
     "data": {
      "image/png": "[encoded data removed]",
      "text/plain": [
       "<Figure size 1440x432 with 1 Axes>"
      ]
     },
     "metadata": {
      "needs_background": "light"
     },
     "output_type": "display_data"
    }
   ],
   "source": [
    "x = np.arange(0, 186)*8/1000   #to second\n",
    "\n",
    "print(data.iloc[10000,187]) #abnormal sample\n",
    "plt.figure(figsize=(20,6))\n",
    "plt.title(\"Abnormal beat\", fontsize=20)\n",
    "plt.ylabel(\"Amplitude\", fontsize=15)\n",
    "plt.xlabel(\"Time (ms)\", fontsize=15)\n",
    "plt.plot(x,data.iloc[10000,:186]) \n",
    "\n",
    "#abnormal sample"
   ]
  },
  {
   "cell_type": "code",
   "execution_count": 8,
   "metadata": {},
   "outputs": [
    {
     "data": {
      "image/png": "[encoded data removed]",
      "text/plain": [
       "<Figure size 1440x432 with 1 Axes>"
      ]
     },
     "metadata": {
      "needs_background": "light"
     },
     "output_type": "display_data"
    }
   ],
   "source": [
    "M = data.values\n",
    "X = M[:, :-1]                    #all features\n",
    "y = M[:, -1].astype(int)         #label\n",
    "x = np.arange(0, 187)*8/1000     #to second\n",
    "\n",
    "#grouping and sorting\n",
    "C0 = np.argwhere(y == 0).flatten()\n",
    "C1 = np.argwhere(y == 1).flatten()\n",
    "\n",
    "plt.figure(figsize=(20,6))\n",
    "plt.plot(x, X[C0, :][0], label=\"Normal\")    #one sample normal\n",
    "plt.plot(x, X[C1, :][0], label=\"Abnormal\")  #one sample abnormal\n",
    "plt.legend()\n",
    "plt.title(\"1-beat ECG\", fontsize=20)\n",
    "plt.ylabel(\"Amplitude\", fontsize=15)\n",
    "plt.xlabel(\"Time (ms)\", fontsize=15)\n",
    "plt.show()"
   ]
  },
  {
   "cell_type": "code",
   "execution_count": 9,
   "metadata": {},
   "outputs": [
    {
     "data": {
      "text/html": [
       "<div>\n",
       "<style scoped>\n",
       "    .dataframe tbody tr th:only-of-type {\n",
       "        vertical-align: middle;\n",
       "    }\n",
       "\n",
       "    .dataframe tbody tr th {\n",
       "        vertical-align: top;\n",
       "    }\n",
       "\n",
       "    .dataframe thead th {\n",
       "        text-align: right;\n",
       "    }\n",
       "</style>\n",
       "<table border=\"1\" class=\"dataframe\">\n",
       "  <thead>\n",
       "    <tr style=\"text-align: right;\">\n",
       "      <th></th>\n",
       "      <th>time0</th>\n",
       "      <th>time1</th>\n",
       "      <th>time2</th>\n",
       "      <th>time3</th>\n",
       "      <th>time4</th>\n",
       "      <th>time5</th>\n",
       "      <th>time6</th>\n",
       "      <th>time7</th>\n",
       "      <th>time8</th>\n",
       "      <th>time9</th>\n",
       "      <th>...</th>\n",
       "      <th>time178</th>\n",
       "      <th>time179</th>\n",
       "      <th>time180</th>\n",
       "      <th>time181</th>\n",
       "      <th>time182</th>\n",
       "      <th>time183</th>\n",
       "      <th>time184</th>\n",
       "      <th>time185</th>\n",
       "      <th>time186</th>\n",
       "      <th>Label</th>\n",
       "    </tr>\n",
       "  </thead>\n",
       "  <tbody>\n",
       "    <tr>\n",
       "      <td>5610</td>\n",
       "      <td>0.904965</td>\n",
       "      <td>0.620567</td>\n",
       "      <td>0.239007</td>\n",
       "      <td>0.179433</td>\n",
       "      <td>0.174468</td>\n",
       "      <td>0.131206</td>\n",
       "      <td>0.046099</td>\n",
       "      <td>0.012766</td>\n",
       "      <td>0.039007</td>\n",
       "      <td>0.009929</td>\n",
       "      <td>...</td>\n",
       "      <td>0.0</td>\n",
       "      <td>0.0</td>\n",
       "      <td>0.0</td>\n",
       "      <td>0.0</td>\n",
       "      <td>0.0</td>\n",
       "      <td>0.0</td>\n",
       "      <td>0.0</td>\n",
       "      <td>0.0</td>\n",
       "      <td>0.0</td>\n",
       "      <td>1.0</td>\n",
       "    </tr>\n",
       "    <tr>\n",
       "      <td>3054</td>\n",
       "      <td>0.973957</td>\n",
       "      <td>0.745783</td>\n",
       "      <td>0.110684</td>\n",
       "      <td>0.052382</td>\n",
       "      <td>0.079017</td>\n",
       "      <td>0.069843</td>\n",
       "      <td>0.045576</td>\n",
       "      <td>0.045872</td>\n",
       "      <td>0.037881</td>\n",
       "      <td>0.036401</td>\n",
       "      <td>...</td>\n",
       "      <td>0.0</td>\n",
       "      <td>0.0</td>\n",
       "      <td>0.0</td>\n",
       "      <td>0.0</td>\n",
       "      <td>0.0</td>\n",
       "      <td>0.0</td>\n",
       "      <td>0.0</td>\n",
       "      <td>0.0</td>\n",
       "      <td>0.0</td>\n",
       "      <td>0.0</td>\n",
       "    </tr>\n",
       "    <tr>\n",
       "      <td>8342</td>\n",
       "      <td>1.000000</td>\n",
       "      <td>0.678453</td>\n",
       "      <td>0.365746</td>\n",
       "      <td>0.061878</td>\n",
       "      <td>0.179558</td>\n",
       "      <td>0.275138</td>\n",
       "      <td>0.260773</td>\n",
       "      <td>0.242541</td>\n",
       "      <td>0.252486</td>\n",
       "      <td>0.262983</td>\n",
       "      <td>...</td>\n",
       "      <td>0.0</td>\n",
       "      <td>0.0</td>\n",
       "      <td>0.0</td>\n",
       "      <td>0.0</td>\n",
       "      <td>0.0</td>\n",
       "      <td>0.0</td>\n",
       "      <td>0.0</td>\n",
       "      <td>0.0</td>\n",
       "      <td>0.0</td>\n",
       "      <td>1.0</td>\n",
       "    </tr>\n",
       "    <tr>\n",
       "      <td>9544</td>\n",
       "      <td>1.000000</td>\n",
       "      <td>0.499174</td>\n",
       "      <td>0.240331</td>\n",
       "      <td>0.090909</td>\n",
       "      <td>0.097190</td>\n",
       "      <td>0.086281</td>\n",
       "      <td>0.061488</td>\n",
       "      <td>0.053884</td>\n",
       "      <td>0.052231</td>\n",
       "      <td>0.050579</td>\n",
       "      <td>...</td>\n",
       "      <td>0.0</td>\n",
       "      <td>0.0</td>\n",
       "      <td>0.0</td>\n",
       "      <td>0.0</td>\n",
       "      <td>0.0</td>\n",
       "      <td>0.0</td>\n",
       "      <td>0.0</td>\n",
       "      <td>0.0</td>\n",
       "      <td>0.0</td>\n",
       "      <td>1.0</td>\n",
       "    </tr>\n",
       "    <tr>\n",
       "      <td>75</td>\n",
       "      <td>0.988406</td>\n",
       "      <td>0.682899</td>\n",
       "      <td>0.307246</td>\n",
       "      <td>0.122319</td>\n",
       "      <td>0.117101</td>\n",
       "      <td>0.048696</td>\n",
       "      <td>0.046377</td>\n",
       "      <td>0.037101</td>\n",
       "      <td>0.028406</td>\n",
       "      <td>0.063188</td>\n",
       "      <td>...</td>\n",
       "      <td>0.0</td>\n",
       "      <td>0.0</td>\n",
       "      <td>0.0</td>\n",
       "      <td>0.0</td>\n",
       "      <td>0.0</td>\n",
       "      <td>0.0</td>\n",
       "      <td>0.0</td>\n",
       "      <td>0.0</td>\n",
       "      <td>0.0</td>\n",
       "      <td>0.0</td>\n",
       "    </tr>\n",
       "  </tbody>\n",
       "</table>\n",
       "<p>5 rows × 188 columns</p>\n",
       "</div>"
      ],
      "text/plain": [
       "         time0     time1     time2     time3     time4     time5     time6  \\\n",
       "5610  0.904965  0.620567  0.239007  0.179433  0.174468  0.131206  0.046099   \n",
       "3054  0.973957  0.745783  0.110684  0.052382  0.079017  0.069843  0.045576   \n",
       "8342  1.000000  0.678453  0.365746  0.061878  0.179558  0.275138  0.260773   \n",
       "9544  1.000000  0.499174  0.240331  0.090909  0.097190  0.086281  0.061488   \n",
       "75    0.988406  0.682899  0.307246  0.122319  0.117101  0.048696  0.046377   \n",
       "\n",
       "         time7     time8     time9  ...  time178  time179  time180  time181  \\\n",
       "5610  0.012766  0.039007  0.009929  ...      0.0      0.0      0.0      0.0   \n",
       "3054  0.045872  0.037881  0.036401  ...      0.0      0.0      0.0      0.0   \n",
       "8342  0.242541  0.252486  0.262983  ...      0.0      0.0      0.0      0.0   \n",
       "9544  0.053884  0.052231  0.050579  ...      0.0      0.0      0.0      0.0   \n",
       "75    0.037101  0.028406  0.063188  ...      0.0      0.0      0.0      0.0   \n",
       "\n",
       "      time182  time183  time184  time185  time186  Label  \n",
       "5610      0.0      0.0      0.0      0.0      0.0    1.0  \n",
       "3054      0.0      0.0      0.0      0.0      0.0    0.0  \n",
       "8342      0.0      0.0      0.0      0.0      0.0    1.0  \n",
       "9544      0.0      0.0      0.0      0.0      0.0    1.0  \n",
       "75        0.0      0.0      0.0      0.0      0.0    0.0  \n",
       "\n",
       "[5 rows x 188 columns]"
      ]
     },
     "execution_count": 9,
     "metadata": {},
     "output_type": "execute_result"
    }
   ],
   "source": [
    "from sklearn.utils import shuffle\n",
    "data=shuffle(data)                 #shuffle the data to for training\n",
    "data.head()"
   ]
  },
  {
   "cell_type": "code",
   "execution_count": 10,
   "metadata": {},
   "outputs": [],
   "source": [
    "y = data[\"Label\"].values   #our labels\n",
    "\n",
    "data.drop([\"Label\"],axis=1,inplace=True)  \n",
    "\n",
    "x = data  #features\n",
    "\n",
    "x_train, x_test, y_train, y_test = train_test_split(x, y, test_size=0.2, random_state=42)   \n"
   ]
  },
  {
   "cell_type": "code",
   "execution_count": 24,
   "metadata": {},
   "outputs": [
    {
     "name": "stdout",
     "output_type": "stream",
     "text": [
      "8399\n",
      "3241\n",
      "2106\n",
      "804\n"
     ]
    }
   ],
   "source": [
    "print(np.count_nonzero(y_train == 1))\n",
    "print(np.count_nonzero(y_train == 0))\n",
    "print(np.count_nonzero(y_test == 1))\n",
    "print(np.count_nonzero(y_test == 0))\n",
    "\n",
    "#dağılımlar iyi gözüküyor."
   ]
  },
  {
   "cell_type": "code",
   "execution_count": 18,
   "metadata": {},
   "outputs": [],
   "source": [
    "x_train = x_train.values.T\n",
    "x_test = x_test.values.T\n",
    "\n",
    "y_train = y_train.reshape(-1,1).T\n",
    "y_test = y_test.reshape(-1,1).T"
   ]
  },
  {
   "cell_type": "code",
   "execution_count": 25,
   "metadata": {
    "colab": {},
    "colab_type": "code",
    "id": "X_2J1JdNEkCG"
   },
   "outputs": [],
   "source": [
    "def initialize_param(layers_with_nodes,in_data,out_data):\n",
    "    \n",
    "    #input layer's values.\n",
    "    \n",
    "    layer_amount = len(layers_with_nodes)\n",
    "    \n",
    "    parameters = {}\n",
    "    parameters[\"weight1\"] = np.random.randn(layers_with_nodes[0],in_data.shape[0]) * 0.1\n",
    "    parameters[\"bias1\"] = np.zeros((layers_with_nodes[0],1))\n",
    "    \n",
    "    print(\"\" + str(layer_amount+2) + \" layers. (\" + str(layer_amount) + \" hidden layer)\")\n",
    "\n",
    "    #the hidden layer's values.\n",
    "    \n",
    "    for i in range(layer_amount-1):\n",
    "        #print(i+2)\n",
    "        w = \"weight\" + str(i+2)\n",
    "        b = \"bias\" + str(i+2)\n",
    "        parameters[w] = np.random.randn(layers_with_nodes[i+1],layers_with_nodes[i]) * 0.1\n",
    "        parameters[b] = np.zeros((layers_with_nodes[i+1],1))\n",
    "    \n",
    "    #output layer's values.\n",
    "    \n",
    "    lastw = \"weight\" + str(layer_amount+1)\n",
    "    lastb = \"bias\" + str(layer_amount+1)\n",
    "    parameters[lastw] = np.random.randn(out_data.shape[0],layers_with_nodes[layer_amount-1]) * 0.1\n",
    "    parameters[lastb] = np.zeros((out_data.shape[0],1))\n",
    "    \n",
    "    return parameters, (layer_amount+1)"
   ]
  },
  {
   "cell_type": "code",
   "execution_count": 26,
   "metadata": {},
   "outputs": [],
   "source": [
    "def sigmoid(x):\n",
    "    y_head = 1/(1 + np.exp(-x))   # basic sigmoid for output layer\n",
    "    return y_head;\n",
    "\n",
    "def compute_cost(A_f, y_train):\n",
    "    logprobs = np.multiply(np.log(A_f),y_train)\n",
    "    cost = -np.sum(logprobs)/y_train.shape[1]    # computing the loss value\n",
    "    return cost"
   ]
  },
  {
   "cell_type": "code",
   "execution_count": 27,
   "metadata": {},
   "outputs": [],
   "source": [
    "def forw_prop_NN(in_data, parameters, connection_amount): # forward propagation\n",
    "    \n",
    "    cache = {}\n",
    "    a0 = in_data\n",
    "    \n",
    "    \n",
    "    for i in range(connection_amount-1):\n",
    "        w = \"weight\" + str(i+1)   \n",
    "        b = \"bias\" + str(i+1) \n",
    "        \n",
    "        z = \"Z\" + str(i+1)\n",
    "        a = \"A\" + str(i+1)\n",
    "        \n",
    "        cache[z] = np.dot(parameters[w],a0) + parameters[b]\n",
    "        cache[a] = np.tanh(cache[z])\n",
    "        a0 = cache[a]\n",
    "        \n",
    "        \n",
    "    # output layer\n",
    "    \n",
    "    z_fin = \"Z\" + str(connection_amount)\n",
    "    a_fin = \"A\" + str(connection_amount)\n",
    "    \n",
    "    w = \"weight\" + str(connection_amount)   \n",
    "    b = \"bias\" + str(connection_amount)\n",
    "    \n",
    "    a0 = \"A\" + str(connection_amount-1)\n",
    "    \n",
    "    cache[z_fin] = np.dot(parameters[w],cache[a0]) + parameters[b]\n",
    "    cache[a_fin] = sigmoid(cache[z_fin])\n",
    "    A = cache[a_fin]\n",
    " \n",
    "    return A, cache"
   ]
  },
  {
   "cell_type": "code",
   "execution_count": 28,
   "metadata": {},
   "outputs": [],
   "source": [
    "def backw_prop_NN(parameters,cache,x_train,y_train,connection_amount):  #backpropagation\n",
    "    \n",
    "    dz = {}\n",
    "    grads = {}\n",
    "    \n",
    "    \n",
    "    # firstly start with output layer.\n",
    "    \n",
    "    a_fin = \"A\" + str(connection_amount)\n",
    "    a_pre_fin = \"A\" + str(connection_amount-1)\n",
    "    w_fin = \"dweight\" + str(connection_amount)\n",
    "    b_fin = \"dbias\" + str(connection_amount)\n",
    "    \n",
    "    dz[connection_amount] = cache[a_fin] - y_train\n",
    "    grads[w_fin] = np.dot(dz[connection_amount],cache[a_pre_fin].T)/x_train.shape[1]\n",
    "    grads[b_fin] = np.sum(dz[connection_amount], axis=1, keepdims=True)/x_train.shape[1]\n",
    "    \n",
    "    # other layers.\n",
    "    \n",
    "    for i in range((connection_amount-1),1,-1):\n",
    "        a = \"A\" + str(i)\n",
    "        a_pre = \"A\" + str(i-1)\n",
    "        dw = \"dweight\" + str(i)\n",
    "        db = \"dbias\" + str(i)\n",
    "        w = \"weight\" + str(i+1)\n",
    "        \n",
    "        dz[i] = np.dot(parameters[w].T,dz[i+1])*(1 - np.power(cache[a], 2))\n",
    "        grads[dw] = np.dot(dz[i],cache[a_pre].T)/x_train.shape[1]\n",
    "        grads[db] = np.sum(dz[i], axis=1,keepdims=True)/x_train.shape[1]\n",
    "    \n",
    "    dz[1] = np.dot(parameters[\"weight2\"].T,dz[2])*(1 - np.power(cache[\"A1\"], 2))\n",
    "    grads[\"dweight1\"] = np.dot(dz[1],x_train.T)/x_train.shape[1]\n",
    "    grads[\"dbias1\"] = np.sum(dz[1],axis =1,keepdims=True)/x_train.shape[1]\n",
    "    \n",
    "    return grads"
   ]
  },
  {
   "cell_type": "code",
   "execution_count": 29,
   "metadata": {},
   "outputs": [],
   "source": [
    "def update_param(parameters, grads, connection_amount, lr=0.01): #update\n",
    "    for i in range(connection_amount):\n",
    "        w = \"weight\" + str(i+1)\n",
    "        b = \"bias\" + str(i+1)\n",
    "        dw = \"dweight\" + str(i+1)\n",
    "        db = \"dbias\" + str(i+1)\n",
    "        \n",
    "        parameters[w] = parameters[w] - lr*grads[dw]\n",
    "        parameters[b] = parameters[b] - lr*grads[db]\n",
    "        \n",
    "    return parameters                "
   ]
  },
  {
   "cell_type": "code",
   "execution_count": 30,
   "metadata": {},
   "outputs": [],
   "source": [
    "def predict(A,parameters,x_test,connection_amount): #prediction\n",
    "    \n",
    "    A, cache = forw_prop_NN(x_test,parameters,connection_amount)\n",
    "    Y_prediction = np.zeros((1,x_test.shape[1]))\n",
    " \n",
    "    for i in range(A.shape[1]):\n",
    "        if A[0,i]<= 0.5:\n",
    "            Y_prediction[0,i] = 0\n",
    "        else:\n",
    "            Y_prediction[0,i] = 1\n",
    "\n",
    "    return Y_prediction             # basic binary prediction."
   ]
  },
  {
   "cell_type": "code",
   "execution_count": 31,
   "metadata": {},
   "outputs": [],
   "source": [
    "def multi_layer_model(layers_with_nodes,x_train,y_train,x_test,y_test, num_iter, lr = 0.01):    \n",
    "    \n",
    "    cost_list = []     \n",
    "    index_list = []\n",
    "    \n",
    "    parameters, connection_amount = initialize_param(layers_with_nodes, x_train, y_train)   \n",
    "    \n",
    "    # for each iteration..\n",
    "    \n",
    "    for i in range(0, num_iter):\n",
    "         # forward propagation\n",
    "        A, cache = forw_prop_NN(x_train,parameters,connection_amount)\n",
    "        # compute cost\n",
    "        cost = compute_cost(A, y_train)\n",
    "         # backward propagation\n",
    "        grads = backw_prop_NN(parameters,cache,x_train,y_train,connection_amount)\n",
    "         # update parameters\n",
    "        parameters = update_param(parameters, grads, connection_amount, lr)\n",
    "        \n",
    "        if i % 100 == 0:\n",
    "            cost_list.append(cost)\n",
    "            index_list.append(i)\n",
    "            print (\"Cost after iteration %i: %f\" %(i, cost))\n",
    "\n",
    "    plt.plot(index_list,cost_list)\n",
    "    plt.xticks(index_list,rotation='vertical')\n",
    "    plt.xlabel(\"Number of Iterarion\")\n",
    "    plt.ylabel(\"Cost\")\n",
    "    plt.show()\n",
    "    \n",
    "    # predict\n",
    "   \n",
    "    y_prediction_train = predict(A, parameters, x_train, connection_amount)\n",
    "    y_prediction_test = predict(A, parameters, x_test, connection_amount)\n",
    "    \n",
    "    \n",
    "    # Print train/test Errors\n",
    "    print(\"train accuracy: {} %\".format(100 - np.mean(np.abs(y_prediction_train - y_train)) * 100))\n",
    "    print(\"test accuracy: {} %\".format(100 - np.mean(np.abs(y_prediction_test - y_test)) * 100))\n",
    "    return parameters, connection_amount"
   ]
  },
  {
   "cell_type": "code",
   "execution_count": 32,
   "metadata": {},
   "outputs": [
    {
     "name": "stdout",
     "output_type": "stream",
     "text": [
      "4 layers. (2 hidden layer)\n",
      "Cost after iteration 0: 0.496494\n",
      "Cost after iteration 100: 0.216698\n",
      "Cost after iteration 200: 0.189489\n",
      "Cost after iteration 300: 0.125137\n",
      "Cost after iteration 400: 0.116269\n",
      "Cost after iteration 500: 0.108700\n",
      "Cost after iteration 600: 0.103261\n",
      "Cost after iteration 700: 0.099287\n",
      "Cost after iteration 800: 0.096177\n",
      "Cost after iteration 900: 0.093713\n",
      "Cost after iteration 1000: 0.091565\n",
      "Cost after iteration 1100: 0.089460\n",
      "Cost after iteration 1200: 0.087212\n",
      "Cost after iteration 1300: 0.084746\n",
      "Cost after iteration 1400: 0.082126\n",
      "Cost after iteration 1500: 0.079447\n",
      "Cost after iteration 1600: 0.076750\n",
      "Cost after iteration 1700: 0.074079\n",
      "Cost after iteration 1800: 0.071521\n",
      "Cost after iteration 1900: 0.069172\n",
      "Cost after iteration 2000: 0.067084\n",
      "Cost after iteration 2100: 0.065255\n",
      "Cost after iteration 2200: 0.063646\n",
      "Cost after iteration 2300: 0.062208\n",
      "Cost after iteration 2400: 0.060893\n",
      "Cost after iteration 2500: 0.059657\n",
      "Cost after iteration 2600: 0.058459\n",
      "Cost after iteration 2700: 0.057273\n"
     ]
    },
    {
     "data": {
      "image/png": "[encoded data removed]",
      "text/plain": [
       "<Figure size 432x288 with 1 Axes>"
      ]
     },
     "metadata": {
      "needs_background": "light"
     },
     "output_type": "display_data"
    },
    {
     "name": "stdout",
     "output_type": "stream",
     "text": [
      "train accuracy: 92.10481099656357 %\n",
      "test accuracy: 91.27147766323024 %\n"
     ]
    }
   ],
   "source": [
    "parameters, connection_amount=multi_layer_model([16,8],x_train,y_train,x_test,y_test,num_iter=2800,lr=0.3)\n",
    "\n",
    "# the first array is where we desing our net for hidden layers with nodes.\n"
   ]
  },
  {
   "cell_type": "code",
   "execution_count": null,
   "metadata": {},
   "outputs": [],
   "source": []
  }
 ],
 "metadata": {
  "colab": {
   "name": "Boston tf_keras.ipynb",
   "provenance": [],
   "version": "0.3.2"
  },
  "kernelspec": {
   "display_name": "Python 3",
   "language": "python",
   "name": "python3"
  },
  "language_info": {
   "codemirror_mode": {
    "name": "ipython",
    "version": 3
   },
   "file_extension": ".py",
   "mimetype": "text/x-python",
   "name": "python",
   "nbconvert_exporter": "python",
   "pygments_lexer": "ipython3",
   "version": "3.7.4"
  }
 },
 "nbformat": 4,
 "nbformat_minor": 1
}
